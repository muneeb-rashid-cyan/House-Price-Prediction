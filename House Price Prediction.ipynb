{
  "cells": [
    {
      "cell_type": "markdown",
      "id": "cb75a41a",
      "metadata": {
        "id": "cb75a41a"
      },
      "source": [
        "# import pandas as pd"
      ]
    },
    {
      "cell_type": "markdown",
      "id": "848f2e4c",
      "metadata": {
        "id": "848f2e4c"
      },
      "source": [
        "### Import libraries"
      ]
    },
    {
      "cell_type": "code",
      "execution_count": 4,
      "id": "e89aba21",
      "metadata": {
        "id": "e89aba21"
      },
      "outputs": [],
      "source": [
        "import pandas as pd\n",
        "import numpy as np\n",
        "import os\n",
        "import tarfile\n",
        "import urllib.request\n",
        "from sklearn.model_selection import StratifiedShuffleSplit\n",
        "from sklearn.metrics import mean_squared_error,r2_score\n",
        "from sklearn.model_selection import cross_val_score\n",
        "from sklearn.tree import DecisionTreeRegressor\n",
        "from sklearn.ensemble import RandomForestRegressor\n",
        "from sklearn.linear_model import LinearRegression\n",
        "from sklearn.svm import SVR\n",
        "import joblib\n",
        "from sklearn.model_selection import RandomizedSearchCV\n",
        "from scipy.stats import randint\n",
        "from sklearn.metrics import mean_squared_error,r2_score\n",
        "from sklearn.model_selection import cross_val_score\n",
        "from sklearn.tree import DecisionTreeRegressor\n",
        "from sklearn.ensemble import RandomForestRegressor\n",
        "from sklearn.linear_model import LinearRegression\n",
        "from sklearn.svm import SVR"
      ]
    },
    {
      "cell_type": "code",
      "execution_count": 5,
      "id": "5cf5f343",
      "metadata": {
        "id": "5cf5f343"
      },
      "outputs": [],
      "source": [
        "DOWNLOAD_ROOT = \"https://github.com/ageron/handson-ml/raw/master/\"\n",
        "HOUSING_PATH = os.path.join(\"datasets\", \"housing\")\n",
        "HOUSING_URL = DOWNLOAD_ROOT + \"datasets/housing/housing.tgz\"\n",
        "\n",
        "def fetch_housing_data(housing_url=HOUSING_URL, housing_path=HOUSING_PATH):\n",
        "    if not os.path.isdir(housing_path):\n",
        "        os.makedirs(housing_path)\n",
        "    tgz_path = os.path.join(housing_path, \"housing.tgz\")\n",
        "    urllib.request.urlretrieve(housing_url, tgz_path)\n",
        "    housing_tgz = tarfile.open(tgz_path)\n",
        "    housing_tgz.extractall(path=housing_path)\n",
        "    housing_tgz.close()"
      ]
    },
    {
      "cell_type": "code",
      "execution_count": 6,
      "id": "17b6f3af",
      "metadata": {
        "id": "17b6f3af"
      },
      "outputs": [],
      "source": [
        "fetch_housing_data()"
      ]
    },
    {
      "cell_type": "markdown",
      "id": "254772a8",
      "metadata": {
        "id": "254772a8"
      },
      "source": [
        "### Load dataset"
      ]
    },
    {
      "cell_type": "code",
      "execution_count": 7,
      "id": "99fa85ad",
      "metadata": {
        "id": "99fa85ad"
      },
      "outputs": [],
      "source": [
        "\n",
        "def load_housing_data(housing_path=HOUSING_PATH):\n",
        "    csv_path = os.path.join(housing_path, \"housing.csv\")\n",
        "    return pd.read_csv(csv_path)"
      ]
    },
    {
      "cell_type": "code",
      "execution_count": 8,
      "id": "34d677fb",
      "metadata": {
        "colab": {
          "base_uri": "https://localhost:8080/",
          "height": 206
        },
        "id": "34d677fb",
        "outputId": "bed7a90a-e269-4f8a-e93f-88214dbc5c9c"
      },
      "outputs": [
        {
          "output_type": "execute_result",
          "data": {
            "text/plain": [
              "   longitude  latitude  housing_median_age  total_rooms  total_bedrooms  \\\n",
              "0    -122.23     37.88                41.0        880.0           129.0   \n",
              "1    -122.22     37.86                21.0       7099.0          1106.0   \n",
              "2    -122.24     37.85                52.0       1467.0           190.0   \n",
              "3    -122.25     37.85                52.0       1274.0           235.0   \n",
              "4    -122.25     37.85                52.0       1627.0           280.0   \n",
              "\n",
              "   population  households  median_income  median_house_value ocean_proximity  \n",
              "0       322.0       126.0         8.3252            452600.0        NEAR BAY  \n",
              "1      2401.0      1138.0         8.3014            358500.0        NEAR BAY  \n",
              "2       496.0       177.0         7.2574            352100.0        NEAR BAY  \n",
              "3       558.0       219.0         5.6431            341300.0        NEAR BAY  \n",
              "4       565.0       259.0         3.8462            342200.0        NEAR BAY  "
            ],
            "text/html": [
              "\n",
              "  <div id=\"df-9dab94e4-6d02-403a-a229-e7e994c656a8\">\n",
              "    <div class=\"colab-df-container\">\n",
              "      <div>\n",
              "<style scoped>\n",
              "    .dataframe tbody tr th:only-of-type {\n",
              "        vertical-align: middle;\n",
              "    }\n",
              "\n",
              "    .dataframe tbody tr th {\n",
              "        vertical-align: top;\n",
              "    }\n",
              "\n",
              "    .dataframe thead th {\n",
              "        text-align: right;\n",
              "    }\n",
              "</style>\n",
              "<table border=\"1\" class=\"dataframe\">\n",
              "  <thead>\n",
              "    <tr style=\"text-align: right;\">\n",
              "      <th></th>\n",
              "      <th>longitude</th>\n",
              "      <th>latitude</th>\n",
              "      <th>housing_median_age</th>\n",
              "      <th>total_rooms</th>\n",
              "      <th>total_bedrooms</th>\n",
              "      <th>population</th>\n",
              "      <th>households</th>\n",
              "      <th>median_income</th>\n",
              "      <th>median_house_value</th>\n",
              "      <th>ocean_proximity</th>\n",
              "    </tr>\n",
              "  </thead>\n",
              "  <tbody>\n",
              "    <tr>\n",
              "      <th>0</th>\n",
              "      <td>-122.23</td>\n",
              "      <td>37.88</td>\n",
              "      <td>41.0</td>\n",
              "      <td>880.0</td>\n",
              "      <td>129.0</td>\n",
              "      <td>322.0</td>\n",
              "      <td>126.0</td>\n",
              "      <td>8.3252</td>\n",
              "      <td>452600.0</td>\n",
              "      <td>NEAR BAY</td>\n",
              "    </tr>\n",
              "    <tr>\n",
              "      <th>1</th>\n",
              "      <td>-122.22</td>\n",
              "      <td>37.86</td>\n",
              "      <td>21.0</td>\n",
              "      <td>7099.0</td>\n",
              "      <td>1106.0</td>\n",
              "      <td>2401.0</td>\n",
              "      <td>1138.0</td>\n",
              "      <td>8.3014</td>\n",
              "      <td>358500.0</td>\n",
              "      <td>NEAR BAY</td>\n",
              "    </tr>\n",
              "    <tr>\n",
              "      <th>2</th>\n",
              "      <td>-122.24</td>\n",
              "      <td>37.85</td>\n",
              "      <td>52.0</td>\n",
              "      <td>1467.0</td>\n",
              "      <td>190.0</td>\n",
              "      <td>496.0</td>\n",
              "      <td>177.0</td>\n",
              "      <td>7.2574</td>\n",
              "      <td>352100.0</td>\n",
              "      <td>NEAR BAY</td>\n",
              "    </tr>\n",
              "    <tr>\n",
              "      <th>3</th>\n",
              "      <td>-122.25</td>\n",
              "      <td>37.85</td>\n",
              "      <td>52.0</td>\n",
              "      <td>1274.0</td>\n",
              "      <td>235.0</td>\n",
              "      <td>558.0</td>\n",
              "      <td>219.0</td>\n",
              "      <td>5.6431</td>\n",
              "      <td>341300.0</td>\n",
              "      <td>NEAR BAY</td>\n",
              "    </tr>\n",
              "    <tr>\n",
              "      <th>4</th>\n",
              "      <td>-122.25</td>\n",
              "      <td>37.85</td>\n",
              "      <td>52.0</td>\n",
              "      <td>1627.0</td>\n",
              "      <td>280.0</td>\n",
              "      <td>565.0</td>\n",
              "      <td>259.0</td>\n",
              "      <td>3.8462</td>\n",
              "      <td>342200.0</td>\n",
              "      <td>NEAR BAY</td>\n",
              "    </tr>\n",
              "  </tbody>\n",
              "</table>\n",
              "</div>\n",
              "      <button class=\"colab-df-convert\" onclick=\"convertToInteractive('df-9dab94e4-6d02-403a-a229-e7e994c656a8')\"\n",
              "              title=\"Convert this dataframe to an interactive table.\"\n",
              "              style=\"display:none;\">\n",
              "        \n",
              "  <svg xmlns=\"http://www.w3.org/2000/svg\" height=\"24px\"viewBox=\"0 0 24 24\"\n",
              "       width=\"24px\">\n",
              "    <path d=\"M0 0h24v24H0V0z\" fill=\"none\"/>\n",
              "    <path d=\"M18.56 5.44l.94 2.06.94-2.06 2.06-.94-2.06-.94-.94-2.06-.94 2.06-2.06.94zm-11 1L8.5 8.5l.94-2.06 2.06-.94-2.06-.94L8.5 2.5l-.94 2.06-2.06.94zm10 10l.94 2.06.94-2.06 2.06-.94-2.06-.94-.94-2.06-.94 2.06-2.06.94z\"/><path d=\"M17.41 7.96l-1.37-1.37c-.4-.4-.92-.59-1.43-.59-.52 0-1.04.2-1.43.59L10.3 9.45l-7.72 7.72c-.78.78-.78 2.05 0 2.83L4 21.41c.39.39.9.59 1.41.59.51 0 1.02-.2 1.41-.59l7.78-7.78 2.81-2.81c.8-.78.8-2.07 0-2.86zM5.41 20L4 18.59l7.72-7.72 1.47 1.35L5.41 20z\"/>\n",
              "  </svg>\n",
              "      </button>\n",
              "      \n",
              "  <style>\n",
              "    .colab-df-container {\n",
              "      display:flex;\n",
              "      flex-wrap:wrap;\n",
              "      gap: 12px;\n",
              "    }\n",
              "\n",
              "    .colab-df-convert {\n",
              "      background-color: #E8F0FE;\n",
              "      border: none;\n",
              "      border-radius: 50%;\n",
              "      cursor: pointer;\n",
              "      display: none;\n",
              "      fill: #1967D2;\n",
              "      height: 32px;\n",
              "      padding: 0 0 0 0;\n",
              "      width: 32px;\n",
              "    }\n",
              "\n",
              "    .colab-df-convert:hover {\n",
              "      background-color: #E2EBFA;\n",
              "      box-shadow: 0px 1px 2px rgba(60, 64, 67, 0.3), 0px 1px 3px 1px rgba(60, 64, 67, 0.15);\n",
              "      fill: #174EA6;\n",
              "    }\n",
              "\n",
              "    [theme=dark] .colab-df-convert {\n",
              "      background-color: #3B4455;\n",
              "      fill: #D2E3FC;\n",
              "    }\n",
              "\n",
              "    [theme=dark] .colab-df-convert:hover {\n",
              "      background-color: #434B5C;\n",
              "      box-shadow: 0px 1px 3px 1px rgba(0, 0, 0, 0.15);\n",
              "      filter: drop-shadow(0px 1px 2px rgba(0, 0, 0, 0.3));\n",
              "      fill: #FFFFFF;\n",
              "    }\n",
              "  </style>\n",
              "\n",
              "      <script>\n",
              "        const buttonEl =\n",
              "          document.querySelector('#df-9dab94e4-6d02-403a-a229-e7e994c656a8 button.colab-df-convert');\n",
              "        buttonEl.style.display =\n",
              "          google.colab.kernel.accessAllowed ? 'block' : 'none';\n",
              "\n",
              "        async function convertToInteractive(key) {\n",
              "          const element = document.querySelector('#df-9dab94e4-6d02-403a-a229-e7e994c656a8');\n",
              "          const dataTable =\n",
              "            await google.colab.kernel.invokeFunction('convertToInteractive',\n",
              "                                                     [key], {});\n",
              "          if (!dataTable) return;\n",
              "\n",
              "          const docLinkHtml = 'Like what you see? Visit the ' +\n",
              "            '<a target=\"_blank\" href=https://colab.research.google.com/notebooks/data_table.ipynb>data table notebook</a>'\n",
              "            + ' to learn more about interactive tables.';\n",
              "          element.innerHTML = '';\n",
              "          dataTable['output_type'] = 'display_data';\n",
              "          await google.colab.output.renderOutput(dataTable, element);\n",
              "          const docLink = document.createElement('div');\n",
              "          docLink.innerHTML = docLinkHtml;\n",
              "          element.appendChild(docLink);\n",
              "        }\n",
              "      </script>\n",
              "    </div>\n",
              "  </div>\n",
              "  "
            ]
          },
          "metadata": {},
          "execution_count": 8
        }
      ],
      "source": [
        "housing = load_housing_data()\n",
        "housing.head()"
      ]
    },
    {
      "cell_type": "markdown",
      "id": "139b180a",
      "metadata": {
        "id": "139b180a"
      },
      "source": [
        "## 1-Target attribute are “median_income”. \n"
      ]
    },
    {
      "cell_type": "code",
      "execution_count": 9,
      "id": "56a7cd30",
      "metadata": {
        "colab": {
          "base_uri": "https://localhost:8080/"
        },
        "id": "56a7cd30",
        "outputId": "94938621-3750-4a34-efe5-a05abd1bc849"
      },
      "outputs": [
        {
          "output_type": "stream",
          "name": "stdout",
          "text": [
            "the shape of housing dataset is  (20640, 10)\n",
            "<class 'pandas.core.frame.DataFrame'>\n",
            "RangeIndex: 20640 entries, 0 to 20639\n",
            "Data columns (total 10 columns):\n",
            " #   Column              Non-Null Count  Dtype  \n",
            "---  ------              --------------  -----  \n",
            " 0   longitude           20640 non-null  float64\n",
            " 1   latitude            20640 non-null  float64\n",
            " 2   housing_median_age  20640 non-null  float64\n",
            " 3   total_rooms         20640 non-null  float64\n",
            " 4   total_bedrooms      20433 non-null  float64\n",
            " 5   population          20640 non-null  float64\n",
            " 6   households          20640 non-null  float64\n",
            " 7   median_income       20640 non-null  float64\n",
            " 8   median_house_value  20640 non-null  float64\n",
            " 9   ocean_proximity     20640 non-null  object \n",
            "dtypes: float64(9), object(1)\n",
            "memory usage: 1.6+ MB\n",
            "the info of each columns of dataset is  None\n"
          ]
        }
      ],
      "source": [
        "# first i need to check the shape of data , missing values of data and then make median income a target features \n",
        "#and all others features are independent features.\n",
        "print(\"the shape of housing dataset is \",housing.shape)\n",
        "print(\"the info of each columns of dataset is \", housing.info())\n",
        "\n"
      ]
    },
    {
      "cell_type": "code",
      "execution_count": 10,
      "id": "9db1cba4",
      "metadata": {
        "colab": {
          "base_uri": "https://localhost:8080/",
          "height": 318
        },
        "id": "9db1cba4",
        "outputId": "53240d92-b45c-4b42-82b6-ccb35de3a549"
      },
      "outputs": [
        {
          "output_type": "stream",
          "name": "stdout",
          "text": [
            "the statistics of housing data is \n"
          ]
        },
        {
          "output_type": "execute_result",
          "data": {
            "text/plain": [
              "          longitude      latitude  housing_median_age   total_rooms  \\\n",
              "count  20640.000000  20640.000000        20640.000000  20640.000000   \n",
              "mean    -119.569704     35.631861           28.639486   2635.763081   \n",
              "std        2.003532      2.135952           12.585558   2181.615252   \n",
              "min     -124.350000     32.540000            1.000000      2.000000   \n",
              "25%     -121.800000     33.930000           18.000000   1447.750000   \n",
              "50%     -118.490000     34.260000           29.000000   2127.000000   \n",
              "75%     -118.010000     37.710000           37.000000   3148.000000   \n",
              "max     -114.310000     41.950000           52.000000  39320.000000   \n",
              "\n",
              "       total_bedrooms    population    households  median_income  \\\n",
              "count    20433.000000  20640.000000  20640.000000   20640.000000   \n",
              "mean       537.870553   1425.476744    499.539680       3.870671   \n",
              "std        421.385070   1132.462122    382.329753       1.899822   \n",
              "min          1.000000      3.000000      1.000000       0.499900   \n",
              "25%        296.000000    787.000000    280.000000       2.563400   \n",
              "50%        435.000000   1166.000000    409.000000       3.534800   \n",
              "75%        647.000000   1725.000000    605.000000       4.743250   \n",
              "max       6445.000000  35682.000000   6082.000000      15.000100   \n",
              "\n",
              "       median_house_value  \n",
              "count        20640.000000  \n",
              "mean        206855.816909  \n",
              "std         115395.615874  \n",
              "min          14999.000000  \n",
              "25%         119600.000000  \n",
              "50%         179700.000000  \n",
              "75%         264725.000000  \n",
              "max         500001.000000  "
            ],
            "text/html": [
              "\n",
              "  <div id=\"df-9fba163e-8ca8-4f8f-8060-54cec07c8a49\">\n",
              "    <div class=\"colab-df-container\">\n",
              "      <div>\n",
              "<style scoped>\n",
              "    .dataframe tbody tr th:only-of-type {\n",
              "        vertical-align: middle;\n",
              "    }\n",
              "\n",
              "    .dataframe tbody tr th {\n",
              "        vertical-align: top;\n",
              "    }\n",
              "\n",
              "    .dataframe thead th {\n",
              "        text-align: right;\n",
              "    }\n",
              "</style>\n",
              "<table border=\"1\" class=\"dataframe\">\n",
              "  <thead>\n",
              "    <tr style=\"text-align: right;\">\n",
              "      <th></th>\n",
              "      <th>longitude</th>\n",
              "      <th>latitude</th>\n",
              "      <th>housing_median_age</th>\n",
              "      <th>total_rooms</th>\n",
              "      <th>total_bedrooms</th>\n",
              "      <th>population</th>\n",
              "      <th>households</th>\n",
              "      <th>median_income</th>\n",
              "      <th>median_house_value</th>\n",
              "    </tr>\n",
              "  </thead>\n",
              "  <tbody>\n",
              "    <tr>\n",
              "      <th>count</th>\n",
              "      <td>20640.000000</td>\n",
              "      <td>20640.000000</td>\n",
              "      <td>20640.000000</td>\n",
              "      <td>20640.000000</td>\n",
              "      <td>20433.000000</td>\n",
              "      <td>20640.000000</td>\n",
              "      <td>20640.000000</td>\n",
              "      <td>20640.000000</td>\n",
              "      <td>20640.000000</td>\n",
              "    </tr>\n",
              "    <tr>\n",
              "      <th>mean</th>\n",
              "      <td>-119.569704</td>\n",
              "      <td>35.631861</td>\n",
              "      <td>28.639486</td>\n",
              "      <td>2635.763081</td>\n",
              "      <td>537.870553</td>\n",
              "      <td>1425.476744</td>\n",
              "      <td>499.539680</td>\n",
              "      <td>3.870671</td>\n",
              "      <td>206855.816909</td>\n",
              "    </tr>\n",
              "    <tr>\n",
              "      <th>std</th>\n",
              "      <td>2.003532</td>\n",
              "      <td>2.135952</td>\n",
              "      <td>12.585558</td>\n",
              "      <td>2181.615252</td>\n",
              "      <td>421.385070</td>\n",
              "      <td>1132.462122</td>\n",
              "      <td>382.329753</td>\n",
              "      <td>1.899822</td>\n",
              "      <td>115395.615874</td>\n",
              "    </tr>\n",
              "    <tr>\n",
              "      <th>min</th>\n",
              "      <td>-124.350000</td>\n",
              "      <td>32.540000</td>\n",
              "      <td>1.000000</td>\n",
              "      <td>2.000000</td>\n",
              "      <td>1.000000</td>\n",
              "      <td>3.000000</td>\n",
              "      <td>1.000000</td>\n",
              "      <td>0.499900</td>\n",
              "      <td>14999.000000</td>\n",
              "    </tr>\n",
              "    <tr>\n",
              "      <th>25%</th>\n",
              "      <td>-121.800000</td>\n",
              "      <td>33.930000</td>\n",
              "      <td>18.000000</td>\n",
              "      <td>1447.750000</td>\n",
              "      <td>296.000000</td>\n",
              "      <td>787.000000</td>\n",
              "      <td>280.000000</td>\n",
              "      <td>2.563400</td>\n",
              "      <td>119600.000000</td>\n",
              "    </tr>\n",
              "    <tr>\n",
              "      <th>50%</th>\n",
              "      <td>-118.490000</td>\n",
              "      <td>34.260000</td>\n",
              "      <td>29.000000</td>\n",
              "      <td>2127.000000</td>\n",
              "      <td>435.000000</td>\n",
              "      <td>1166.000000</td>\n",
              "      <td>409.000000</td>\n",
              "      <td>3.534800</td>\n",
              "      <td>179700.000000</td>\n",
              "    </tr>\n",
              "    <tr>\n",
              "      <th>75%</th>\n",
              "      <td>-118.010000</td>\n",
              "      <td>37.710000</td>\n",
              "      <td>37.000000</td>\n",
              "      <td>3148.000000</td>\n",
              "      <td>647.000000</td>\n",
              "      <td>1725.000000</td>\n",
              "      <td>605.000000</td>\n",
              "      <td>4.743250</td>\n",
              "      <td>264725.000000</td>\n",
              "    </tr>\n",
              "    <tr>\n",
              "      <th>max</th>\n",
              "      <td>-114.310000</td>\n",
              "      <td>41.950000</td>\n",
              "      <td>52.000000</td>\n",
              "      <td>39320.000000</td>\n",
              "      <td>6445.000000</td>\n",
              "      <td>35682.000000</td>\n",
              "      <td>6082.000000</td>\n",
              "      <td>15.000100</td>\n",
              "      <td>500001.000000</td>\n",
              "    </tr>\n",
              "  </tbody>\n",
              "</table>\n",
              "</div>\n",
              "      <button class=\"colab-df-convert\" onclick=\"convertToInteractive('df-9fba163e-8ca8-4f8f-8060-54cec07c8a49')\"\n",
              "              title=\"Convert this dataframe to an interactive table.\"\n",
              "              style=\"display:none;\">\n",
              "        \n",
              "  <svg xmlns=\"http://www.w3.org/2000/svg\" height=\"24px\"viewBox=\"0 0 24 24\"\n",
              "       width=\"24px\">\n",
              "    <path d=\"M0 0h24v24H0V0z\" fill=\"none\"/>\n",
              "    <path d=\"M18.56 5.44l.94 2.06.94-2.06 2.06-.94-2.06-.94-.94-2.06-.94 2.06-2.06.94zm-11 1L8.5 8.5l.94-2.06 2.06-.94-2.06-.94L8.5 2.5l-.94 2.06-2.06.94zm10 10l.94 2.06.94-2.06 2.06-.94-2.06-.94-.94-2.06-.94 2.06-2.06.94z\"/><path d=\"M17.41 7.96l-1.37-1.37c-.4-.4-.92-.59-1.43-.59-.52 0-1.04.2-1.43.59L10.3 9.45l-7.72 7.72c-.78.78-.78 2.05 0 2.83L4 21.41c.39.39.9.59 1.41.59.51 0 1.02-.2 1.41-.59l7.78-7.78 2.81-2.81c.8-.78.8-2.07 0-2.86zM5.41 20L4 18.59l7.72-7.72 1.47 1.35L5.41 20z\"/>\n",
              "  </svg>\n",
              "      </button>\n",
              "      \n",
              "  <style>\n",
              "    .colab-df-container {\n",
              "      display:flex;\n",
              "      flex-wrap:wrap;\n",
              "      gap: 12px;\n",
              "    }\n",
              "\n",
              "    .colab-df-convert {\n",
              "      background-color: #E8F0FE;\n",
              "      border: none;\n",
              "      border-radius: 50%;\n",
              "      cursor: pointer;\n",
              "      display: none;\n",
              "      fill: #1967D2;\n",
              "      height: 32px;\n",
              "      padding: 0 0 0 0;\n",
              "      width: 32px;\n",
              "    }\n",
              "\n",
              "    .colab-df-convert:hover {\n",
              "      background-color: #E2EBFA;\n",
              "      box-shadow: 0px 1px 2px rgba(60, 64, 67, 0.3), 0px 1px 3px 1px rgba(60, 64, 67, 0.15);\n",
              "      fill: #174EA6;\n",
              "    }\n",
              "\n",
              "    [theme=dark] .colab-df-convert {\n",
              "      background-color: #3B4455;\n",
              "      fill: #D2E3FC;\n",
              "    }\n",
              "\n",
              "    [theme=dark] .colab-df-convert:hover {\n",
              "      background-color: #434B5C;\n",
              "      box-shadow: 0px 1px 3px 1px rgba(0, 0, 0, 0.15);\n",
              "      filter: drop-shadow(0px 1px 2px rgba(0, 0, 0, 0.3));\n",
              "      fill: #FFFFFF;\n",
              "    }\n",
              "  </style>\n",
              "\n",
              "      <script>\n",
              "        const buttonEl =\n",
              "          document.querySelector('#df-9fba163e-8ca8-4f8f-8060-54cec07c8a49 button.colab-df-convert');\n",
              "        buttonEl.style.display =\n",
              "          google.colab.kernel.accessAllowed ? 'block' : 'none';\n",
              "\n",
              "        async function convertToInteractive(key) {\n",
              "          const element = document.querySelector('#df-9fba163e-8ca8-4f8f-8060-54cec07c8a49');\n",
              "          const dataTable =\n",
              "            await google.colab.kernel.invokeFunction('convertToInteractive',\n",
              "                                                     [key], {});\n",
              "          if (!dataTable) return;\n",
              "\n",
              "          const docLinkHtml = 'Like what you see? Visit the ' +\n",
              "            '<a target=\"_blank\" href=https://colab.research.google.com/notebooks/data_table.ipynb>data table notebook</a>'\n",
              "            + ' to learn more about interactive tables.';\n",
              "          element.innerHTML = '';\n",
              "          dataTable['output_type'] = 'display_data';\n",
              "          await google.colab.output.renderOutput(dataTable, element);\n",
              "          const docLink = document.createElement('div');\n",
              "          docLink.innerHTML = docLinkHtml;\n",
              "          element.appendChild(docLink);\n",
              "        }\n",
              "      </script>\n",
              "    </div>\n",
              "  </div>\n",
              "  "
            ]
          },
          "metadata": {},
          "execution_count": 10
        }
      ],
      "source": [
        "print(\"the statistics of housing data is \")\n",
        "housing.describe()"
      ]
    },
    {
      "cell_type": "code",
      "execution_count": 11,
      "id": "27e3338a",
      "metadata": {
        "colab": {
          "base_uri": "https://localhost:8080/"
        },
        "id": "27e3338a",
        "outputId": "d80997b7-0aee-4368-a3cb-2f845271f681"
      },
      "outputs": [
        {
          "output_type": "stream",
          "name": "stdout",
          "text": [
            "the missing values in housing dataset is \n",
            "longitude               0\n",
            "latitude                0\n",
            "housing_median_age      0\n",
            "total_rooms             0\n",
            "total_bedrooms        207\n",
            "population              0\n",
            "households              0\n",
            "median_income           0\n",
            "median_house_value      0\n",
            "ocean_proximity         0\n",
            "dtype: int64\n",
            "i handle the missing values of total bedrooms by interpolate method\n"
          ]
        },
        {
          "output_type": "execute_result",
          "data": {
            "text/plain": [
              "longitude             0\n",
              "latitude              0\n",
              "housing_median_age    0\n",
              "total_rooms           0\n",
              "total_bedrooms        0\n",
              "population            0\n",
              "households            0\n",
              "median_income         0\n",
              "median_house_value    0\n",
              "ocean_proximity       0\n",
              "dtype: int64"
            ]
          },
          "metadata": {},
          "execution_count": 11
        }
      ],
      "source": [
        "# i also check the missing values in the housing dataset for good results.\n",
        "# handling of missing values is very important because it make huge impact on prediction.\n",
        "print(\"the missing values in housing dataset is \")\n",
        "print(housing.isnull().sum())\n",
        "print(\"i handle the missing values of total bedrooms by interpolate method\")\n",
        "housing=housing.interpolate(method ='linear', limit_direction ='forward')\n",
        "housing.isnull().sum()"
      ]
    },
    {
      "cell_type": "code",
      "execution_count": 12,
      "id": "766fa927",
      "metadata": {
        "colab": {
          "base_uri": "https://localhost:8080/"
        },
        "id": "766fa927",
        "outputId": "e775ce12-f358-4a3b-88c0-fa2b462e3c10"
      },
      "outputs": [
        {
          "output_type": "execute_result",
          "data": {
            "text/plain": [
              "Index(['longitude', 'latitude', 'housing_median_age', 'total_rooms',\n",
              "       'total_bedrooms', 'population', 'households', 'median_income',\n",
              "       'median_house_value', 'ocean_proximity'],\n",
              "      dtype='object')"
            ]
          },
          "metadata": {},
          "execution_count": 12
        }
      ],
      "source": [
        "housing.columns"
      ]
    },
    {
      "cell_type": "markdown",
      "id": "f0a82b4f",
      "metadata": {
        "id": "f0a82b4f"
      },
      "source": [
        "## 2-Use StratifiedShuffleSplit to split the data into 80% training and 20% testing. \n",
        "\n",
        "The stratified-shuffle-split will be based on the categories of “median_house_value”.  Please first categorize “median_house_value” into 3 reasonable categories before splitting.\n"
      ]
    },
    {
      "cell_type": "code",
      "execution_count": 13,
      "id": "ca7d1fe6",
      "metadata": {
        "colab": {
          "base_uri": "https://localhost:8080/"
        },
        "id": "ca7d1fe6",
        "outputId": "4035cb0f-c28e-4727-92e6-443f594c8161"
      },
      "outputs": [
        {
          "output_type": "execute_result",
          "data": {
            "text/plain": [
              "500001.0    965\n",
              "137500.0    122\n",
              "162500.0    117\n",
              "112500.0    103\n",
              "187500.0     93\n",
              "           ... \n",
              "359200.0      1\n",
              "54900.0       1\n",
              "377600.0      1\n",
              "81200.0       1\n",
              "47000.0       1\n",
              "Name: median_house_value, Length: 3842, dtype: int64"
            ]
          },
          "metadata": {},
          "execution_count": 13
        }
      ],
      "source": [
        "# i want to calculate the count of each value in median house value columns because i want to convert it into categories.\n",
        "housing['median_house_value'].value_counts()"
      ]
    },
    {
      "cell_type": "code",
      "execution_count": 14,
      "id": "6a3ad8ef",
      "metadata": {
        "id": "6a3ad8ef"
      },
      "outputs": [],
      "source": [
        "# in this block i convert median_house_value in category\n",
        "for i in housing['median_house_value']:\n",
        "    if i<=150000:       #less than 150000 house value is categorized as low\n",
        "        housing['median_house_value'].replace(i,'Low',inplace=True)\n",
        "    elif i>150000 and i<=300000:   #between 150000 and 3000000 house value is categorized as medium      \n",
        "        housing['median_house_value'].replace(i,'medium',inplace=True)\n",
        "    elif i>300000:          #greater than 300000 house value is categorized as high.\n",
        "        housing['median_house_value'].replace(i,'high',inplace=True)"
      ]
    },
    {
      "cell_type": "code",
      "execution_count": 15,
      "id": "c42fe275",
      "metadata": {
        "colab": {
          "base_uri": "https://localhost:8080/"
        },
        "id": "c42fe275",
        "outputId": "c44fab8f-1889-44c0-ece4-f5a362a4e1b2"
      },
      "outputs": [
        {
          "output_type": "execute_result",
          "data": {
            "text/plain": [
              "medium    9184\n",
              "Low       7620\n",
              "high      3836\n",
              "Name: median_house_value, dtype: int64"
            ]
          },
          "metadata": {},
          "execution_count": 15
        }
      ],
      "source": [
        "#counts the value in all categorize of house median value column\n",
        "housing['median_house_value'].value_counts()"
      ]
    },
    {
      "cell_type": "code",
      "execution_count": 16,
      "id": "fbbbbb57",
      "metadata": {
        "id": "fbbbbb57"
      },
      "outputs": [],
      "source": [
        "housing[\"median_house_cat\"] = housing['median_house_value'].copy()"
      ]
    },
    {
      "cell_type": "code",
      "execution_count": 17,
      "id": "17bf0eee",
      "metadata": {
        "id": "17bf0eee"
      },
      "outputs": [],
      "source": [
        "# i will split the data in stratified shuffle split \n",
        "#Stratified ShuffleSplit cross-validator. Provides train/test indices to split data in train/test sets. \n",
        "#This cross-validation object is a merge of StratifiedKFold and ShuffleSplit, which returns stratified randomized folds\n",
        "from sklearn.model_selection import StratifiedShuffleSplit\n",
        "\n",
        "split = StratifiedShuffleSplit(n_splits=1, test_size=0.2, random_state=42)\n",
        "for train_index, test_index in split.split(housing, housing['median_house_value']):\n",
        "    strat_train_set = housing.loc[train_index]\n",
        "    strat_test_set = housing.loc[test_index]"
      ]
    },
    {
      "cell_type": "code",
      "execution_count": 18,
      "id": "acce9488",
      "metadata": {
        "id": "acce9488"
      },
      "outputs": [],
      "source": [
        "for set_ in (strat_train_set, strat_test_set):\n",
        "    set_.drop(\"median_house_value\", axis=1, inplace=True)"
      ]
    },
    {
      "cell_type": "code",
      "execution_count": 19,
      "id": "de362f6e",
      "metadata": {
        "id": "de362f6e"
      },
      "outputs": [],
      "source": [
        "# dependent and independent feature\n",
        "housing = strat_train_set.drop(\"median_income\", axis=1) \n",
        "housing_labels = strat_train_set[\"median_income\"]"
      ]
    },
    {
      "cell_type": "code",
      "execution_count": 20,
      "id": "891a2718",
      "metadata": {
        "colab": {
          "base_uri": "https://localhost:8080/",
          "height": 206
        },
        "id": "891a2718",
        "outputId": "4de0a89a-7d53-4592-c166-264cc9b4df45"
      },
      "outputs": [
        {
          "output_type": "execute_result",
          "data": {
            "text/plain": [
              "       longitude  latitude  housing_median_age  total_rooms  total_bedrooms  \\\n",
              "8555     -118.40     33.92                25.0       1453.0           271.0   \n",
              "14614    -117.17     32.79                43.0       1269.0           297.0   \n",
              "363      -122.14     37.75                36.0        690.0           105.0   \n",
              "5973     -117.77     34.12                15.0       4260.0           770.0   \n",
              "10357    -117.66     33.59                18.0       4552.0           706.0   \n",
              "\n",
              "       population  households ocean_proximity median_house_cat  \n",
              "8555        695.0       283.0       <1H OCEAN             high  \n",
              "14614       946.0       285.0      NEAR OCEAN              Low  \n",
              "363         299.0       109.0        NEAR BAY           medium  \n",
              "5973       2007.0       695.0          INLAND           medium  \n",
              "10357      1918.0       671.0       <1H OCEAN           medium  "
            ],
            "text/html": [
              "\n",
              "  <div id=\"df-306e23f6-09c5-4ae3-80e3-d7c9a023e5e6\">\n",
              "    <div class=\"colab-df-container\">\n",
              "      <div>\n",
              "<style scoped>\n",
              "    .dataframe tbody tr th:only-of-type {\n",
              "        vertical-align: middle;\n",
              "    }\n",
              "\n",
              "    .dataframe tbody tr th {\n",
              "        vertical-align: top;\n",
              "    }\n",
              "\n",
              "    .dataframe thead th {\n",
              "        text-align: right;\n",
              "    }\n",
              "</style>\n",
              "<table border=\"1\" class=\"dataframe\">\n",
              "  <thead>\n",
              "    <tr style=\"text-align: right;\">\n",
              "      <th></th>\n",
              "      <th>longitude</th>\n",
              "      <th>latitude</th>\n",
              "      <th>housing_median_age</th>\n",
              "      <th>total_rooms</th>\n",
              "      <th>total_bedrooms</th>\n",
              "      <th>population</th>\n",
              "      <th>households</th>\n",
              "      <th>ocean_proximity</th>\n",
              "      <th>median_house_cat</th>\n",
              "    </tr>\n",
              "  </thead>\n",
              "  <tbody>\n",
              "    <tr>\n",
              "      <th>8555</th>\n",
              "      <td>-118.40</td>\n",
              "      <td>33.92</td>\n",
              "      <td>25.0</td>\n",
              "      <td>1453.0</td>\n",
              "      <td>271.0</td>\n",
              "      <td>695.0</td>\n",
              "      <td>283.0</td>\n",
              "      <td>&lt;1H OCEAN</td>\n",
              "      <td>high</td>\n",
              "    </tr>\n",
              "    <tr>\n",
              "      <th>14614</th>\n",
              "      <td>-117.17</td>\n",
              "      <td>32.79</td>\n",
              "      <td>43.0</td>\n",
              "      <td>1269.0</td>\n",
              "      <td>297.0</td>\n",
              "      <td>946.0</td>\n",
              "      <td>285.0</td>\n",
              "      <td>NEAR OCEAN</td>\n",
              "      <td>Low</td>\n",
              "    </tr>\n",
              "    <tr>\n",
              "      <th>363</th>\n",
              "      <td>-122.14</td>\n",
              "      <td>37.75</td>\n",
              "      <td>36.0</td>\n",
              "      <td>690.0</td>\n",
              "      <td>105.0</td>\n",
              "      <td>299.0</td>\n",
              "      <td>109.0</td>\n",
              "      <td>NEAR BAY</td>\n",
              "      <td>medium</td>\n",
              "    </tr>\n",
              "    <tr>\n",
              "      <th>5973</th>\n",
              "      <td>-117.77</td>\n",
              "      <td>34.12</td>\n",
              "      <td>15.0</td>\n",
              "      <td>4260.0</td>\n",
              "      <td>770.0</td>\n",
              "      <td>2007.0</td>\n",
              "      <td>695.0</td>\n",
              "      <td>INLAND</td>\n",
              "      <td>medium</td>\n",
              "    </tr>\n",
              "    <tr>\n",
              "      <th>10357</th>\n",
              "      <td>-117.66</td>\n",
              "      <td>33.59</td>\n",
              "      <td>18.0</td>\n",
              "      <td>4552.0</td>\n",
              "      <td>706.0</td>\n",
              "      <td>1918.0</td>\n",
              "      <td>671.0</td>\n",
              "      <td>&lt;1H OCEAN</td>\n",
              "      <td>medium</td>\n",
              "    </tr>\n",
              "  </tbody>\n",
              "</table>\n",
              "</div>\n",
              "      <button class=\"colab-df-convert\" onclick=\"convertToInteractive('df-306e23f6-09c5-4ae3-80e3-d7c9a023e5e6')\"\n",
              "              title=\"Convert this dataframe to an interactive table.\"\n",
              "              style=\"display:none;\">\n",
              "        \n",
              "  <svg xmlns=\"http://www.w3.org/2000/svg\" height=\"24px\"viewBox=\"0 0 24 24\"\n",
              "       width=\"24px\">\n",
              "    <path d=\"M0 0h24v24H0V0z\" fill=\"none\"/>\n",
              "    <path d=\"M18.56 5.44l.94 2.06.94-2.06 2.06-.94-2.06-.94-.94-2.06-.94 2.06-2.06.94zm-11 1L8.5 8.5l.94-2.06 2.06-.94-2.06-.94L8.5 2.5l-.94 2.06-2.06.94zm10 10l.94 2.06.94-2.06 2.06-.94-2.06-.94-.94-2.06-.94 2.06-2.06.94z\"/><path d=\"M17.41 7.96l-1.37-1.37c-.4-.4-.92-.59-1.43-.59-.52 0-1.04.2-1.43.59L10.3 9.45l-7.72 7.72c-.78.78-.78 2.05 0 2.83L4 21.41c.39.39.9.59 1.41.59.51 0 1.02-.2 1.41-.59l7.78-7.78 2.81-2.81c.8-.78.8-2.07 0-2.86zM5.41 20L4 18.59l7.72-7.72 1.47 1.35L5.41 20z\"/>\n",
              "  </svg>\n",
              "      </button>\n",
              "      \n",
              "  <style>\n",
              "    .colab-df-container {\n",
              "      display:flex;\n",
              "      flex-wrap:wrap;\n",
              "      gap: 12px;\n",
              "    }\n",
              "\n",
              "    .colab-df-convert {\n",
              "      background-color: #E8F0FE;\n",
              "      border: none;\n",
              "      border-radius: 50%;\n",
              "      cursor: pointer;\n",
              "      display: none;\n",
              "      fill: #1967D2;\n",
              "      height: 32px;\n",
              "      padding: 0 0 0 0;\n",
              "      width: 32px;\n",
              "    }\n",
              "\n",
              "    .colab-df-convert:hover {\n",
              "      background-color: #E2EBFA;\n",
              "      box-shadow: 0px 1px 2px rgba(60, 64, 67, 0.3), 0px 1px 3px 1px rgba(60, 64, 67, 0.15);\n",
              "      fill: #174EA6;\n",
              "    }\n",
              "\n",
              "    [theme=dark] .colab-df-convert {\n",
              "      background-color: #3B4455;\n",
              "      fill: #D2E3FC;\n",
              "    }\n",
              "\n",
              "    [theme=dark] .colab-df-convert:hover {\n",
              "      background-color: #434B5C;\n",
              "      box-shadow: 0px 1px 3px 1px rgba(0, 0, 0, 0.15);\n",
              "      filter: drop-shadow(0px 1px 2px rgba(0, 0, 0, 0.3));\n",
              "      fill: #FFFFFF;\n",
              "    }\n",
              "  </style>\n",
              "\n",
              "      <script>\n",
              "        const buttonEl =\n",
              "          document.querySelector('#df-306e23f6-09c5-4ae3-80e3-d7c9a023e5e6 button.colab-df-convert');\n",
              "        buttonEl.style.display =\n",
              "          google.colab.kernel.accessAllowed ? 'block' : 'none';\n",
              "\n",
              "        async function convertToInteractive(key) {\n",
              "          const element = document.querySelector('#df-306e23f6-09c5-4ae3-80e3-d7c9a023e5e6');\n",
              "          const dataTable =\n",
              "            await google.colab.kernel.invokeFunction('convertToInteractive',\n",
              "                                                     [key], {});\n",
              "          if (!dataTable) return;\n",
              "\n",
              "          const docLinkHtml = 'Like what you see? Visit the ' +\n",
              "            '<a target=\"_blank\" href=https://colab.research.google.com/notebooks/data_table.ipynb>data table notebook</a>'\n",
              "            + ' to learn more about interactive tables.';\n",
              "          element.innerHTML = '';\n",
              "          dataTable['output_type'] = 'display_data';\n",
              "          await google.colab.output.renderOutput(dataTable, element);\n",
              "          const docLink = document.createElement('div');\n",
              "          docLink.innerHTML = docLinkHtml;\n",
              "          element.appendChild(docLink);\n",
              "        }\n",
              "      </script>\n",
              "    </div>\n",
              "  </div>\n",
              "  "
            ]
          },
          "metadata": {},
          "execution_count": 20
        }
      ],
      "source": [
        "housing.head()"
      ]
    },
    {
      "cell_type": "code",
      "execution_count": 21,
      "id": "8e8722d1",
      "metadata": {
        "colab": {
          "base_uri": "https://localhost:8080/"
        },
        "id": "8e8722d1",
        "outputId": "4ef1286f-5951-4fe6-cc60-e4d70c59f33a"
      },
      "outputs": [
        {
          "output_type": "stream",
          "name": "stdout",
          "text": [
            "8555     5.9499\n",
            "14614    2.1447\n",
            "363      4.0313\n",
            "5973     4.4609\n",
            "10357    7.5791\n",
            "          ...  \n",
            "16854    4.8000\n",
            "716      2.4042\n",
            "12661    2.8139\n",
            "7942     4.6765\n",
            "8627     5.9683\n",
            "Name: median_income, Length: 16512, dtype: float64\n"
          ]
        }
      ],
      "source": [
        "print(housing_labels)"
      ]
    },
    {
      "cell_type": "code",
      "execution_count": 22,
      "id": "2eea6cea",
      "metadata": {
        "id": "2eea6cea"
      },
      "outputs": [],
      "source": [
        "#handle categorical features(ocean_proximity,median_house_cat) by label encoding method.\n",
        "#Label Encoding is a popular encoding technique for handling categorical variables. In this technique, \n",
        "#each label is assigned a unique integer based on alphabetical ordering\n",
        "from sklearn.preprocessing import LabelEncoder\n",
        "housing['ocean_proximity'] = LabelEncoder().fit_transform(housing['ocean_proximity'])\n",
        "housing['median_house_cat']=LabelEncoder().fit_transform(housing['median_house_cat'])"
      ]
    },
    {
      "cell_type": "code",
      "execution_count": 23,
      "id": "67c67878",
      "metadata": {
        "colab": {
          "base_uri": "https://localhost:8080/",
          "height": 206
        },
        "id": "67c67878",
        "outputId": "75e7197e-0baa-4e9b-dff8-13bb0582b59d"
      },
      "outputs": [
        {
          "output_type": "execute_result",
          "data": {
            "text/plain": [
              "       longitude  latitude  housing_median_age  total_rooms  total_bedrooms  \\\n",
              "8555     -118.40     33.92                25.0       1453.0           271.0   \n",
              "14614    -117.17     32.79                43.0       1269.0           297.0   \n",
              "363      -122.14     37.75                36.0        690.0           105.0   \n",
              "5973     -117.77     34.12                15.0       4260.0           770.0   \n",
              "10357    -117.66     33.59                18.0       4552.0           706.0   \n",
              "\n",
              "       population  households  ocean_proximity  median_house_cat  \n",
              "8555        695.0       283.0                0                 1  \n",
              "14614       946.0       285.0                4                 0  \n",
              "363         299.0       109.0                3                 2  \n",
              "5973       2007.0       695.0                1                 2  \n",
              "10357      1918.0       671.0                0                 2  "
            ],
            "text/html": [
              "\n",
              "  <div id=\"df-b8b1311c-81e4-41d4-a657-8a6fd8083219\">\n",
              "    <div class=\"colab-df-container\">\n",
              "      <div>\n",
              "<style scoped>\n",
              "    .dataframe tbody tr th:only-of-type {\n",
              "        vertical-align: middle;\n",
              "    }\n",
              "\n",
              "    .dataframe tbody tr th {\n",
              "        vertical-align: top;\n",
              "    }\n",
              "\n",
              "    .dataframe thead th {\n",
              "        text-align: right;\n",
              "    }\n",
              "</style>\n",
              "<table border=\"1\" class=\"dataframe\">\n",
              "  <thead>\n",
              "    <tr style=\"text-align: right;\">\n",
              "      <th></th>\n",
              "      <th>longitude</th>\n",
              "      <th>latitude</th>\n",
              "      <th>housing_median_age</th>\n",
              "      <th>total_rooms</th>\n",
              "      <th>total_bedrooms</th>\n",
              "      <th>population</th>\n",
              "      <th>households</th>\n",
              "      <th>ocean_proximity</th>\n",
              "      <th>median_house_cat</th>\n",
              "    </tr>\n",
              "  </thead>\n",
              "  <tbody>\n",
              "    <tr>\n",
              "      <th>8555</th>\n",
              "      <td>-118.40</td>\n",
              "      <td>33.92</td>\n",
              "      <td>25.0</td>\n",
              "      <td>1453.0</td>\n",
              "      <td>271.0</td>\n",
              "      <td>695.0</td>\n",
              "      <td>283.0</td>\n",
              "      <td>0</td>\n",
              "      <td>1</td>\n",
              "    </tr>\n",
              "    <tr>\n",
              "      <th>14614</th>\n",
              "      <td>-117.17</td>\n",
              "      <td>32.79</td>\n",
              "      <td>43.0</td>\n",
              "      <td>1269.0</td>\n",
              "      <td>297.0</td>\n",
              "      <td>946.0</td>\n",
              "      <td>285.0</td>\n",
              "      <td>4</td>\n",
              "      <td>0</td>\n",
              "    </tr>\n",
              "    <tr>\n",
              "      <th>363</th>\n",
              "      <td>-122.14</td>\n",
              "      <td>37.75</td>\n",
              "      <td>36.0</td>\n",
              "      <td>690.0</td>\n",
              "      <td>105.0</td>\n",
              "      <td>299.0</td>\n",
              "      <td>109.0</td>\n",
              "      <td>3</td>\n",
              "      <td>2</td>\n",
              "    </tr>\n",
              "    <tr>\n",
              "      <th>5973</th>\n",
              "      <td>-117.77</td>\n",
              "      <td>34.12</td>\n",
              "      <td>15.0</td>\n",
              "      <td>4260.0</td>\n",
              "      <td>770.0</td>\n",
              "      <td>2007.0</td>\n",
              "      <td>695.0</td>\n",
              "      <td>1</td>\n",
              "      <td>2</td>\n",
              "    </tr>\n",
              "    <tr>\n",
              "      <th>10357</th>\n",
              "      <td>-117.66</td>\n",
              "      <td>33.59</td>\n",
              "      <td>18.0</td>\n",
              "      <td>4552.0</td>\n",
              "      <td>706.0</td>\n",
              "      <td>1918.0</td>\n",
              "      <td>671.0</td>\n",
              "      <td>0</td>\n",
              "      <td>2</td>\n",
              "    </tr>\n",
              "  </tbody>\n",
              "</table>\n",
              "</div>\n",
              "      <button class=\"colab-df-convert\" onclick=\"convertToInteractive('df-b8b1311c-81e4-41d4-a657-8a6fd8083219')\"\n",
              "              title=\"Convert this dataframe to an interactive table.\"\n",
              "              style=\"display:none;\">\n",
              "        \n",
              "  <svg xmlns=\"http://www.w3.org/2000/svg\" height=\"24px\"viewBox=\"0 0 24 24\"\n",
              "       width=\"24px\">\n",
              "    <path d=\"M0 0h24v24H0V0z\" fill=\"none\"/>\n",
              "    <path d=\"M18.56 5.44l.94 2.06.94-2.06 2.06-.94-2.06-.94-.94-2.06-.94 2.06-2.06.94zm-11 1L8.5 8.5l.94-2.06 2.06-.94-2.06-.94L8.5 2.5l-.94 2.06-2.06.94zm10 10l.94 2.06.94-2.06 2.06-.94-2.06-.94-.94-2.06-.94 2.06-2.06.94z\"/><path d=\"M17.41 7.96l-1.37-1.37c-.4-.4-.92-.59-1.43-.59-.52 0-1.04.2-1.43.59L10.3 9.45l-7.72 7.72c-.78.78-.78 2.05 0 2.83L4 21.41c.39.39.9.59 1.41.59.51 0 1.02-.2 1.41-.59l7.78-7.78 2.81-2.81c.8-.78.8-2.07 0-2.86zM5.41 20L4 18.59l7.72-7.72 1.47 1.35L5.41 20z\"/>\n",
              "  </svg>\n",
              "      </button>\n",
              "      \n",
              "  <style>\n",
              "    .colab-df-container {\n",
              "      display:flex;\n",
              "      flex-wrap:wrap;\n",
              "      gap: 12px;\n",
              "    }\n",
              "\n",
              "    .colab-df-convert {\n",
              "      background-color: #E8F0FE;\n",
              "      border: none;\n",
              "      border-radius: 50%;\n",
              "      cursor: pointer;\n",
              "      display: none;\n",
              "      fill: #1967D2;\n",
              "      height: 32px;\n",
              "      padding: 0 0 0 0;\n",
              "      width: 32px;\n",
              "    }\n",
              "\n",
              "    .colab-df-convert:hover {\n",
              "      background-color: #E2EBFA;\n",
              "      box-shadow: 0px 1px 2px rgba(60, 64, 67, 0.3), 0px 1px 3px 1px rgba(60, 64, 67, 0.15);\n",
              "      fill: #174EA6;\n",
              "    }\n",
              "\n",
              "    [theme=dark] .colab-df-convert {\n",
              "      background-color: #3B4455;\n",
              "      fill: #D2E3FC;\n",
              "    }\n",
              "\n",
              "    [theme=dark] .colab-df-convert:hover {\n",
              "      background-color: #434B5C;\n",
              "      box-shadow: 0px 1px 3px 1px rgba(0, 0, 0, 0.15);\n",
              "      filter: drop-shadow(0px 1px 2px rgba(0, 0, 0, 0.3));\n",
              "      fill: #FFFFFF;\n",
              "    }\n",
              "  </style>\n",
              "\n",
              "      <script>\n",
              "        const buttonEl =\n",
              "          document.querySelector('#df-b8b1311c-81e4-41d4-a657-8a6fd8083219 button.colab-df-convert');\n",
              "        buttonEl.style.display =\n",
              "          google.colab.kernel.accessAllowed ? 'block' : 'none';\n",
              "\n",
              "        async function convertToInteractive(key) {\n",
              "          const element = document.querySelector('#df-b8b1311c-81e4-41d4-a657-8a6fd8083219');\n",
              "          const dataTable =\n",
              "            await google.colab.kernel.invokeFunction('convertToInteractive',\n",
              "                                                     [key], {});\n",
              "          if (!dataTable) return;\n",
              "\n",
              "          const docLinkHtml = 'Like what you see? Visit the ' +\n",
              "            '<a target=\"_blank\" href=https://colab.research.google.com/notebooks/data_table.ipynb>data table notebook</a>'\n",
              "            + ' to learn more about interactive tables.';\n",
              "          element.innerHTML = '';\n",
              "          dataTable['output_type'] = 'display_data';\n",
              "          await google.colab.output.renderOutput(dataTable, element);\n",
              "          const docLink = document.createElement('div');\n",
              "          docLink.innerHTML = docLinkHtml;\n",
              "          element.appendChild(docLink);\n",
              "        }\n",
              "      </script>\n",
              "    </div>\n",
              "  </div>\n",
              "  "
            ]
          },
          "metadata": {},
          "execution_count": 23
        }
      ],
      "source": [
        "housing.head()"
      ]
    },
    {
      "cell_type": "code",
      "execution_count": 24,
      "id": "86f57897",
      "metadata": {
        "id": "86f57897"
      },
      "outputs": [],
      "source": [
        "# Data normalization\n",
        "#some feature have value in higher domain so need to scale and shrink the features for better results\n",
        "from sklearn.preprocessing import StandardScaler\n",
        "sc=StandardScaler(with_mean=False)\n",
        "housing_prepaired=sc.fit_transform(housing)"
      ]
    },
    {
      "cell_type": "markdown",
      "id": "0261a905",
      "metadata": {
        "id": "0261a905"
      },
      "source": [
        "## 3-Examine the following machine learning models: \n",
        "\n",
        "Linear Regression\n",
        "\n",
        "Decision Tree Regression\n",
        "\n",
        "Random Forest Regression\n",
        "\n",
        "Support Vector Machine Regression. \n",
        "\n",
        "\n",
        "(The code to create an instance for Support Vector Machine is:  svm_reg = SVR()).  Your examination must be based on both how each model fits the training data and how each model performs based on 10 cross validations."
      ]
    },
    {
      "cell_type": "code",
      "execution_count": 25,
      "id": "51086f30",
      "metadata": {
        "id": "51086f30"
      },
      "outputs": [],
      "source": [
        "#print mean , SD for cross validation\n",
        "def display_scores(scores):\n",
        "    print(\"Scores of 10 CV:\", scores)\n",
        "    print(\"Mean:\", scores.mean())\n",
        "    print(\"Standard deviation:\", scores.std())"
      ]
    },
    {
      "cell_type": "markdown",
      "id": "2ca0fa44",
      "metadata": {
        "id": "2ca0fa44"
      },
      "source": [
        "### Linear Regression"
      ]
    },
    {
      "cell_type": "code",
      "execution_count": 26,
      "id": "d5d67d12",
      "metadata": {
        "colab": {
          "base_uri": "https://localhost:8080/"
        },
        "id": "d5d67d12",
        "outputId": "22ad05f9-f5b4-4a1a-fca8-0efa8ef14b3f"
      },
      "outputs": [
        {
          "output_type": "execute_result",
          "data": {
            "text/plain": [
              "LinearRegression()"
            ]
          },
          "metadata": {},
          "execution_count": 26
        }
      ],
      "source": [
        "from sklearn.linear_model import LinearRegression\n",
        "\n",
        "lin_reg = LinearRegression()\n",
        "lin_reg.fit(housing_prepaired, housing_labels)"
      ]
    },
    {
      "cell_type": "markdown",
      "source": [
        "**Evluation metrics **"
      ],
      "metadata": {
        "id": "VAGOEWNo4WDA"
      },
      "id": "VAGOEWNo4WDA"
    },
    {
      "cell_type": "code",
      "execution_count": 27,
      "id": "0a37ed92",
      "metadata": {
        "colab": {
          "base_uri": "https://localhost:8080/"
        },
        "id": "0a37ed92",
        "outputId": "c684caed-097a-4775-a6e5-42d2bd9426ae"
      },
      "outputs": [
        {
          "output_type": "stream",
          "name": "stdout",
          "text": [
            "mean squared error of linear regression is 2.0892465784320273\n",
            "R Squared score of linear regression is 0.42327985515780187\n",
            " Root mean squared error of linear regression is 1.4454226296941761\n"
          ]
        }
      ],
      "source": [
        "from sklearn.metrics import mean_squared_error,r2_score\n",
        "housing_predictions = lin_reg.predict(housing_prepaired)\n",
        "lin_mse = mean_squared_error(housing_labels, housing_predictions)\n",
        "print(\"mean squared error of linear regression is\",lin_mse)\n",
        "lin_r2_score=r2_score(housing_labels, housing_predictions)\n",
        "print(\"R Squared score of linear regression is\",lin_r2_score)\n",
        "lin_rmse = np.sqrt(lin_mse)\n",
        "print(\" Root mean squared error of linear regression is\",lin_rmse)\n"
      ]
    },
    {
      "cell_type": "markdown",
      "id": "96fdf635",
      "metadata": {
        "id": "96fdf635"
      },
      "source": [
        "### cross validation score of linear regression"
      ]
    },
    {
      "cell_type": "code",
      "execution_count": 28,
      "id": "dc055301",
      "metadata": {
        "colab": {
          "base_uri": "https://localhost:8080/"
        },
        "id": "dc055301",
        "outputId": "4d390d48-8140-4b8e-e2af-dae399d6d788"
      },
      "outputs": [
        {
          "output_type": "stream",
          "name": "stdout",
          "text": [
            "Scores of 10 CV: [1.4196312  1.49072159 1.42353739 1.5343456  1.59586566 1.33995709\n",
            " 1.40131054 1.42653219 1.41562931 1.41816313]\n",
            "Mean: 1.4465693687619527\n",
            "Standard deviation: 0.06984256216643292\n"
          ]
        }
      ],
      "source": [
        "lin_scores = cross_val_score(lin_reg, housing_prepaired, housing_labels,\n",
        "                             scoring=\"neg_mean_squared_error\", cv=10)\n",
        "lin_rmse_scores = np.sqrt(-lin_scores)\n",
        "display_scores(lin_rmse_scores)"
      ]
    },
    {
      "cell_type": "markdown",
      "id": "a585d0ce",
      "metadata": {
        "id": "a585d0ce"
      },
      "source": [
        "### Decision Tree Regression"
      ]
    },
    {
      "cell_type": "code",
      "execution_count": 29,
      "id": "02acd309",
      "metadata": {
        "colab": {
          "base_uri": "https://localhost:8080/"
        },
        "id": "02acd309",
        "outputId": "1926c246-7d31-4097-a1c9-894d58307e59"
      },
      "outputs": [
        {
          "output_type": "execute_result",
          "data": {
            "text/plain": [
              "DecisionTreeRegressor(max_depth=15, random_state=42)"
            ]
          },
          "metadata": {},
          "execution_count": 29
        }
      ],
      "source": [
        "from sklearn.tree import DecisionTreeRegressor\n",
        "\n",
        "tree_reg = DecisionTreeRegressor(max_depth=15,random_state=42)\n",
        "tree_reg.fit(housing_prepaired, housing_labels)\n",
        "\n"
      ]
    },
    {
      "cell_type": "markdown",
      "source": [
        "**Evluation metrics **"
      ],
      "metadata": {
        "id": "t7P6hbfq4gst"
      },
      "id": "t7P6hbfq4gst"
    },
    {
      "cell_type": "code",
      "execution_count": 30,
      "id": "5e2767c7",
      "metadata": {
        "colab": {
          "base_uri": "https://localhost:8080/"
        },
        "id": "5e2767c7",
        "outputId": "16cb1c48-f910-4295-a4ad-acd202076b4a"
      },
      "outputs": [
        {
          "output_type": "stream",
          "name": "stdout",
          "text": [
            "mean squared error of Decision tree regressor is 0.20896905637945629\n",
            "R Squared score of Decision tree regressor is 0.9423157296477925\n",
            " Root mean squared error of Decision tree regressor is 0.4571313338412237\n"
          ]
        }
      ],
      "source": [
        "housing_predictions = tree_reg.predict(housing_prepaired)\n",
        "tree_mse = mean_squared_error(housing_labels, housing_predictions)\n",
        "print(\"mean squared error of Decision tree regressor is\",tree_mse)\n",
        "tree_r2_score=r2_score(housing_labels, housing_predictions)\n",
        "print(\"R Squared score of Decision tree regressor is\",tree_r2_score)\n",
        "tree_rmse = np.sqrt(tree_mse)\n",
        "print(\" Root mean squared error of Decision tree regressor is\",tree_rmse)\n"
      ]
    },
    {
      "cell_type": "markdown",
      "id": "e1524335",
      "metadata": {
        "id": "e1524335"
      },
      "source": [
        "### cross validation score of Decision tree regressor"
      ]
    },
    {
      "cell_type": "code",
      "execution_count": 31,
      "id": "89833846",
      "metadata": {
        "colab": {
          "base_uri": "https://localhost:8080/"
        },
        "id": "89833846",
        "outputId": "8655bfa9-1874-415c-c692-9f91e74de984"
      },
      "outputs": [
        {
          "output_type": "stream",
          "name": "stdout",
          "text": [
            "Scores of 10 CV: [-1.65381331 -1.47035771 -1.58600361 -1.89368216 -1.60933991 -1.39742246\n",
            " -1.57376184 -1.50043395 -1.79116544 -1.36043339]\n",
            "Mean: -1.5836413785712065\n",
            "Standard deviation: 0.15784016465542702\n"
          ]
        }
      ],
      "source": [
        "tree_scores = cross_val_score(tree_reg, housing_prepaired, housing_labels,\n",
        "                         scoring=\"neg_mean_squared_error\", cv=10)\n",
        "tree_rmse_scores = np.sqrt(-tree_scores)\n",
        "display_scores(tree_scores)"
      ]
    },
    {
      "cell_type": "markdown",
      "id": "31a8064b",
      "metadata": {
        "id": "31a8064b"
      },
      "source": [
        "### Random Forest Regressor"
      ]
    },
    {
      "cell_type": "code",
      "execution_count": 32,
      "id": "93382c47",
      "metadata": {
        "colab": {
          "base_uri": "https://localhost:8080/"
        },
        "id": "93382c47",
        "outputId": "dd778f3f-fa45-405c-a4b6-c8636d53c019"
      },
      "outputs": [
        {
          "output_type": "execute_result",
          "data": {
            "text/plain": [
              "RandomForestRegressor(n_estimators=10, random_state=42)"
            ]
          },
          "metadata": {},
          "execution_count": 32
        }
      ],
      "source": [
        "from sklearn.ensemble import RandomForestRegressor\n",
        "\n",
        "forest_reg = RandomForestRegressor(n_estimators=10, random_state=42)\n",
        "forest_reg.fit(housing_prepaired, housing_labels)\n",
        "\n"
      ]
    },
    {
      "cell_type": "markdown",
      "source": [
        "**Evluation metrics **"
      ],
      "metadata": {
        "id": "4UNp3U8_4iov"
      },
      "id": "4UNp3U8_4iov"
    },
    {
      "cell_type": "code",
      "execution_count": 33,
      "id": "53555170",
      "metadata": {
        "colab": {
          "base_uri": "https://localhost:8080/"
        },
        "id": "53555170",
        "outputId": "14d9f488-acf0-4a44-f36b-9cd4224b79c7"
      },
      "outputs": [
        {
          "output_type": "stream",
          "name": "stdout",
          "text": [
            "mean squared error of Random forest regressor is 0.1751270334820676\n",
            "R Squared score of Random forest regressor is 0.9516575548534045\n",
            "Root mean squared error of Random forest regressor is 0.4184818197748471\n"
          ]
        }
      ],
      "source": [
        "housing_predictions = forest_reg.predict(housing_prepaired)\n",
        "forest_mse = mean_squared_error(housing_labels, housing_predictions)\n",
        "print(\"mean squared error of Random forest regressor is\",forest_mse)\n",
        "forest_r2_score=r2_score(housing_labels, housing_predictions)\n",
        "print(\"R Squared score of Random forest regressor is\",forest_r2_score)\n",
        "forest_rmse = np.sqrt(forest_mse)\n",
        "print(\"Root mean squared error of Random forest regressor is\",forest_rmse)\n"
      ]
    },
    {
      "cell_type": "markdown",
      "id": "ef704214",
      "metadata": {
        "id": "ef704214"
      },
      "source": [
        "### cross validation score of Random Forest Regressor"
      ]
    },
    {
      "cell_type": "code",
      "execution_count": 34,
      "id": "44843201",
      "metadata": {
        "colab": {
          "base_uri": "https://localhost:8080/"
        },
        "id": "44843201",
        "outputId": "5206a9d8-d35a-4e78-b590-430b6e2d9ac5"
      },
      "outputs": [
        {
          "output_type": "stream",
          "name": "stdout",
          "text": [
            "Scores of 10 CV: [0.97672698 1.01042479 0.99516889 1.09412868 0.98043145 0.91732393\n",
            " 0.99802759 0.96122194 1.00424652 0.95501779]\n",
            "Mean: 0.989271856474437\n",
            "Standard deviation: 0.0437609982007956\n"
          ]
        }
      ],
      "source": [
        "forest_scores = cross_val_score(forest_reg, housing_prepaired, housing_labels,\n",
        "                                scoring=\"neg_mean_squared_error\", cv=10)\n",
        "forest_rmse_scores = np.sqrt(-forest_scores)\n",
        "display_scores(forest_rmse_scores)"
      ]
    },
    {
      "cell_type": "markdown",
      "id": "617b81ef",
      "metadata": {
        "id": "617b81ef"
      },
      "source": [
        "### Support Vector Regressor"
      ]
    },
    {
      "cell_type": "code",
      "execution_count": 35,
      "id": "ddc42347",
      "metadata": {
        "colab": {
          "base_uri": "https://localhost:8080/"
        },
        "id": "ddc42347",
        "outputId": "fd0b52bf-950c-439e-cdba-42832bb4763a"
      },
      "outputs": [
        {
          "output_type": "execute_result",
          "data": {
            "text/plain": [
              "SVR()"
            ]
          },
          "metadata": {},
          "execution_count": 35
        }
      ],
      "source": [
        "from sklearn.svm import SVR\n",
        "support=SVR()\n",
        "support.fit(housing_prepaired, housing_labels)"
      ]
    },
    {
      "cell_type": "markdown",
      "source": [
        "**Evluation metrics **"
      ],
      "metadata": {
        "id": "uYwF2r6I4lxj"
      },
      "id": "uYwF2r6I4lxj"
    },
    {
      "cell_type": "code",
      "execution_count": 36,
      "id": "108483e8",
      "metadata": {
        "colab": {
          "base_uri": "https://localhost:8080/"
        },
        "id": "108483e8",
        "outputId": "534616c7-ab08-43b5-c858-b9bb564e5311"
      },
      "outputs": [
        {
          "output_type": "stream",
          "name": "stdout",
          "text": [
            "mean squared error of support vector regressor is 2.827887519529216\n",
            "R Squared score of support vector regressor is 0.21938381199392998\n",
            "Root mean squared error of support vector regressor is 1.681632397264401\n"
          ]
        }
      ],
      "source": [
        "housing_predictions = support.predict(housing_prepaired)\n",
        "support_mse = mean_squared_error(housing_labels, housing_predictions)\n",
        "print(\"mean squared error of support vector regressor is\",support_mse)\n",
        "support_r2_score=r2_score(housing_labels, housing_predictions)\n",
        "print(\"R Squared score of support vector regressor is\",support_r2_score)\n",
        "support_rmse = np.sqrt(support_mse)\n",
        "print(\"Root mean squared error of support vector regressor is\",support_rmse)\n"
      ]
    },
    {
      "cell_type": "markdown",
      "id": "111939ee",
      "metadata": {
        "id": "111939ee"
      },
      "source": [
        "### Cross validation score of Support vector regressor"
      ]
    },
    {
      "cell_type": "code",
      "execution_count": 37,
      "id": "d26aff02",
      "metadata": {
        "colab": {
          "base_uri": "https://localhost:8080/"
        },
        "id": "d26aff02",
        "outputId": "b9c3f2d2-747f-44f4-c94d-8da9f875b038"
      },
      "outputs": [
        {
          "output_type": "stream",
          "name": "stdout",
          "text": [
            "Scores of 10 CV: [1.66941248 1.70502065 1.67638272 1.77619501 1.84212842 1.57480267\n",
            " 1.63538982 1.69932077 1.65903541 1.67443426]\n",
            "Mean: 1.691212221054674\n",
            "Standard deviation: 0.06995248963578975\n"
          ]
        }
      ],
      "source": [
        "support_scores = cross_val_score(support, housing_prepaired, housing_labels,\n",
        "                                scoring=\"neg_mean_squared_error\", cv=10)\n",
        "support_rmse_scores = np.sqrt(-support_scores)\n",
        "display_scores(support_rmse_scores)"
      ]
    },
    {
      "cell_type": "markdown",
      "id": "1379a6e0",
      "metadata": {
        "id": "1379a6e0"
      },
      "source": [
        "## 4- Use RandomizedSearchCV to perform fine tuning of the model\n",
        "that you choose in step 3.  If Support Vector Machine is the model you choose, use the following value range for RandomizedSearchCV. "
      ]
    },
    {
      "cell_type": "markdown",
      "id": "73fa8ea8",
      "metadata": {
        "id": "73fa8ea8"
      },
      "source": [
        "i check the r2 score ,MSE and RMSE of all models and conclude that Decision tree is best out of all. So i \n",
        "tune the hyperparameters od decision tree using Randomized search CV."
      ]
    },
    {
      "cell_type": "code",
      "execution_count": 38,
      "id": "8cf2b720",
      "metadata": {
        "id": "8cf2b720"
      },
      "outputs": [],
      "source": [
        "from sklearn.model_selection import RandomizedSearchCV\n",
        "from scipy.stats import randint\n",
        "#parameters that need to tune\n",
        "param_distribs = {\n",
        "       'max_depth': [3, 5, 10, 20,30],\n",
        "    'min_samples_leaf': [5, 10, 20, 50, 100,150]\n",
        "    }\n",
        "\n"
      ]
    },
    {
      "cell_type": "code",
      "execution_count": 39,
      "id": "bd568952",
      "metadata": {
        "id": "bd568952"
      },
      "outputs": [],
      "source": [
        "tree_reg = DecisionTreeRegressor(random_state=42)\n",
        "rnd_search = RandomizedSearchCV(tree_reg, param_distributions=param_distribs,\n",
        "                                n_iter=10, cv=5, scoring='neg_mean_squared_error', random_state=42)"
      ]
    },
    {
      "cell_type": "code",
      "execution_count": 40,
      "id": "78195815",
      "metadata": {
        "colab": {
          "base_uri": "https://localhost:8080/"
        },
        "id": "78195815",
        "outputId": "11f57dd4-c0b8-4a17-b937-14bef4f9bfa0"
      },
      "outputs": [
        {
          "output_type": "execute_result",
          "data": {
            "text/plain": [
              "RandomizedSearchCV(cv=5, estimator=DecisionTreeRegressor(random_state=42),\n",
              "                   param_distributions={'max_depth': [3, 5, 10, 20, 30],\n",
              "                                        'min_samples_leaf': [5, 10, 20, 50, 100,\n",
              "                                                             150]},\n",
              "                   random_state=42, scoring='neg_mean_squared_error')"
            ]
          },
          "metadata": {},
          "execution_count": 40
        }
      ],
      "source": [
        "rnd_search.fit(housing_prepaired, housing_labels)"
      ]
    },
    {
      "cell_type": "markdown",
      "id": "b614795b",
      "metadata": {
        "id": "b614795b"
      },
      "source": [
        "### Tuning results"
      ]
    },
    {
      "cell_type": "code",
      "execution_count": 41,
      "id": "849de8c6",
      "metadata": {
        "colab": {
          "base_uri": "https://localhost:8080/",
          "height": 0
        },
        "id": "849de8c6",
        "outputId": "5a9ab5d7-5a48-4c88-8673-9af67f26070a"
      },
      "outputs": [
        {
          "output_type": "execute_result",
          "data": {
            "text/plain": [
              "   mean_fit_time  std_fit_time  mean_score_time  std_score_time  \\\n",
              "0       0.068767      0.003130         0.001137        0.000041   \n",
              "1       0.065566      0.001977         0.001185        0.000119   \n",
              "2       0.053030      0.001645         0.001062        0.000020   \n",
              "3       0.052199      0.001295         0.001027        0.000021   \n",
              "4       0.043048      0.003027         0.001058        0.000174   \n",
              "\n",
              "  param_min_samples_leaf param_max_depth  \\\n",
              "0                     50              30   \n",
              "1                     50              10   \n",
              "2                    150              20   \n",
              "3                    150              10   \n",
              "4                     20               5   \n",
              "\n",
              "                                       params  split0_test_score  \\\n",
              "0   {'min_samples_leaf': 50, 'max_depth': 30}          -1.314427   \n",
              "1   {'min_samples_leaf': 50, 'max_depth': 10}          -1.321320   \n",
              "2  {'min_samples_leaf': 150, 'max_depth': 20}          -1.613435   \n",
              "3  {'min_samples_leaf': 150, 'max_depth': 10}          -1.613435   \n",
              "4    {'min_samples_leaf': 20, 'max_depth': 5}          -1.836494   \n",
              "\n",
              "   split1_test_score  split2_test_score  split3_test_score  split4_test_score  \\\n",
              "0          -1.357587          -1.242706          -1.234223          -1.244909   \n",
              "1          -1.371850          -1.259030          -1.249837          -1.267651   \n",
              "2          -1.591160          -1.499796          -1.452573          -1.547754   \n",
              "3          -1.593421          -1.503146          -1.452573          -1.550167   \n",
              "4          -1.818387          -1.815403          -1.775675          -1.867360   \n",
              "\n",
              "   mean_test_score  std_test_score  rank_test_score  \n",
              "0        -1.278771        0.048816                2  \n",
              "1        -1.293938        0.046205                3  \n",
              "2        -1.540943        0.058865                6  \n",
              "3        -1.542548        0.058854                7  \n",
              "4        -1.822664        0.029893                9  "
            ],
            "text/html": [
              "\n",
              "  <div id=\"df-e228dc1a-b90c-4a37-91b2-06f65b20aa32\">\n",
              "    <div class=\"colab-df-container\">\n",
              "      <div>\n",
              "<style scoped>\n",
              "    .dataframe tbody tr th:only-of-type {\n",
              "        vertical-align: middle;\n",
              "    }\n",
              "\n",
              "    .dataframe tbody tr th {\n",
              "        vertical-align: top;\n",
              "    }\n",
              "\n",
              "    .dataframe thead th {\n",
              "        text-align: right;\n",
              "    }\n",
              "</style>\n",
              "<table border=\"1\" class=\"dataframe\">\n",
              "  <thead>\n",
              "    <tr style=\"text-align: right;\">\n",
              "      <th></th>\n",
              "      <th>mean_fit_time</th>\n",
              "      <th>std_fit_time</th>\n",
              "      <th>mean_score_time</th>\n",
              "      <th>std_score_time</th>\n",
              "      <th>param_min_samples_leaf</th>\n",
              "      <th>param_max_depth</th>\n",
              "      <th>params</th>\n",
              "      <th>split0_test_score</th>\n",
              "      <th>split1_test_score</th>\n",
              "      <th>split2_test_score</th>\n",
              "      <th>split3_test_score</th>\n",
              "      <th>split4_test_score</th>\n",
              "      <th>mean_test_score</th>\n",
              "      <th>std_test_score</th>\n",
              "      <th>rank_test_score</th>\n",
              "    </tr>\n",
              "  </thead>\n",
              "  <tbody>\n",
              "    <tr>\n",
              "      <th>0</th>\n",
              "      <td>0.068767</td>\n",
              "      <td>0.003130</td>\n",
              "      <td>0.001137</td>\n",
              "      <td>0.000041</td>\n",
              "      <td>50</td>\n",
              "      <td>30</td>\n",
              "      <td>{'min_samples_leaf': 50, 'max_depth': 30}</td>\n",
              "      <td>-1.314427</td>\n",
              "      <td>-1.357587</td>\n",
              "      <td>-1.242706</td>\n",
              "      <td>-1.234223</td>\n",
              "      <td>-1.244909</td>\n",
              "      <td>-1.278771</td>\n",
              "      <td>0.048816</td>\n",
              "      <td>2</td>\n",
              "    </tr>\n",
              "    <tr>\n",
              "      <th>1</th>\n",
              "      <td>0.065566</td>\n",
              "      <td>0.001977</td>\n",
              "      <td>0.001185</td>\n",
              "      <td>0.000119</td>\n",
              "      <td>50</td>\n",
              "      <td>10</td>\n",
              "      <td>{'min_samples_leaf': 50, 'max_depth': 10}</td>\n",
              "      <td>-1.321320</td>\n",
              "      <td>-1.371850</td>\n",
              "      <td>-1.259030</td>\n",
              "      <td>-1.249837</td>\n",
              "      <td>-1.267651</td>\n",
              "      <td>-1.293938</td>\n",
              "      <td>0.046205</td>\n",
              "      <td>3</td>\n",
              "    </tr>\n",
              "    <tr>\n",
              "      <th>2</th>\n",
              "      <td>0.053030</td>\n",
              "      <td>0.001645</td>\n",
              "      <td>0.001062</td>\n",
              "      <td>0.000020</td>\n",
              "      <td>150</td>\n",
              "      <td>20</td>\n",
              "      <td>{'min_samples_leaf': 150, 'max_depth': 20}</td>\n",
              "      <td>-1.613435</td>\n",
              "      <td>-1.591160</td>\n",
              "      <td>-1.499796</td>\n",
              "      <td>-1.452573</td>\n",
              "      <td>-1.547754</td>\n",
              "      <td>-1.540943</td>\n",
              "      <td>0.058865</td>\n",
              "      <td>6</td>\n",
              "    </tr>\n",
              "    <tr>\n",
              "      <th>3</th>\n",
              "      <td>0.052199</td>\n",
              "      <td>0.001295</td>\n",
              "      <td>0.001027</td>\n",
              "      <td>0.000021</td>\n",
              "      <td>150</td>\n",
              "      <td>10</td>\n",
              "      <td>{'min_samples_leaf': 150, 'max_depth': 10}</td>\n",
              "      <td>-1.613435</td>\n",
              "      <td>-1.593421</td>\n",
              "      <td>-1.503146</td>\n",
              "      <td>-1.452573</td>\n",
              "      <td>-1.550167</td>\n",
              "      <td>-1.542548</td>\n",
              "      <td>0.058854</td>\n",
              "      <td>7</td>\n",
              "    </tr>\n",
              "    <tr>\n",
              "      <th>4</th>\n",
              "      <td>0.043048</td>\n",
              "      <td>0.003027</td>\n",
              "      <td>0.001058</td>\n",
              "      <td>0.000174</td>\n",
              "      <td>20</td>\n",
              "      <td>5</td>\n",
              "      <td>{'min_samples_leaf': 20, 'max_depth': 5}</td>\n",
              "      <td>-1.836494</td>\n",
              "      <td>-1.818387</td>\n",
              "      <td>-1.815403</td>\n",
              "      <td>-1.775675</td>\n",
              "      <td>-1.867360</td>\n",
              "      <td>-1.822664</td>\n",
              "      <td>0.029893</td>\n",
              "      <td>9</td>\n",
              "    </tr>\n",
              "  </tbody>\n",
              "</table>\n",
              "</div>\n",
              "      <button class=\"colab-df-convert\" onclick=\"convertToInteractive('df-e228dc1a-b90c-4a37-91b2-06f65b20aa32')\"\n",
              "              title=\"Convert this dataframe to an interactive table.\"\n",
              "              style=\"display:none;\">\n",
              "        \n",
              "  <svg xmlns=\"http://www.w3.org/2000/svg\" height=\"24px\"viewBox=\"0 0 24 24\"\n",
              "       width=\"24px\">\n",
              "    <path d=\"M0 0h24v24H0V0z\" fill=\"none\"/>\n",
              "    <path d=\"M18.56 5.44l.94 2.06.94-2.06 2.06-.94-2.06-.94-.94-2.06-.94 2.06-2.06.94zm-11 1L8.5 8.5l.94-2.06 2.06-.94-2.06-.94L8.5 2.5l-.94 2.06-2.06.94zm10 10l.94 2.06.94-2.06 2.06-.94-2.06-.94-.94-2.06-.94 2.06-2.06.94z\"/><path d=\"M17.41 7.96l-1.37-1.37c-.4-.4-.92-.59-1.43-.59-.52 0-1.04.2-1.43.59L10.3 9.45l-7.72 7.72c-.78.78-.78 2.05 0 2.83L4 21.41c.39.39.9.59 1.41.59.51 0 1.02-.2 1.41-.59l7.78-7.78 2.81-2.81c.8-.78.8-2.07 0-2.86zM5.41 20L4 18.59l7.72-7.72 1.47 1.35L5.41 20z\"/>\n",
              "  </svg>\n",
              "      </button>\n",
              "      \n",
              "  <style>\n",
              "    .colab-df-container {\n",
              "      display:flex;\n",
              "      flex-wrap:wrap;\n",
              "      gap: 12px;\n",
              "    }\n",
              "\n",
              "    .colab-df-convert {\n",
              "      background-color: #E8F0FE;\n",
              "      border: none;\n",
              "      border-radius: 50%;\n",
              "      cursor: pointer;\n",
              "      display: none;\n",
              "      fill: #1967D2;\n",
              "      height: 32px;\n",
              "      padding: 0 0 0 0;\n",
              "      width: 32px;\n",
              "    }\n",
              "\n",
              "    .colab-df-convert:hover {\n",
              "      background-color: #E2EBFA;\n",
              "      box-shadow: 0px 1px 2px rgba(60, 64, 67, 0.3), 0px 1px 3px 1px rgba(60, 64, 67, 0.15);\n",
              "      fill: #174EA6;\n",
              "    }\n",
              "\n",
              "    [theme=dark] .colab-df-convert {\n",
              "      background-color: #3B4455;\n",
              "      fill: #D2E3FC;\n",
              "    }\n",
              "\n",
              "    [theme=dark] .colab-df-convert:hover {\n",
              "      background-color: #434B5C;\n",
              "      box-shadow: 0px 1px 3px 1px rgba(0, 0, 0, 0.15);\n",
              "      filter: drop-shadow(0px 1px 2px rgba(0, 0, 0, 0.3));\n",
              "      fill: #FFFFFF;\n",
              "    }\n",
              "  </style>\n",
              "\n",
              "      <script>\n",
              "        const buttonEl =\n",
              "          document.querySelector('#df-e228dc1a-b90c-4a37-91b2-06f65b20aa32 button.colab-df-convert');\n",
              "        buttonEl.style.display =\n",
              "          google.colab.kernel.accessAllowed ? 'block' : 'none';\n",
              "\n",
              "        async function convertToInteractive(key) {\n",
              "          const element = document.querySelector('#df-e228dc1a-b90c-4a37-91b2-06f65b20aa32');\n",
              "          const dataTable =\n",
              "            await google.colab.kernel.invokeFunction('convertToInteractive',\n",
              "                                                     [key], {});\n",
              "          if (!dataTable) return;\n",
              "\n",
              "          const docLinkHtml = 'Like what you see? Visit the ' +\n",
              "            '<a target=\"_blank\" href=https://colab.research.google.com/notebooks/data_table.ipynb>data table notebook</a>'\n",
              "            + ' to learn more about interactive tables.';\n",
              "          element.innerHTML = '';\n",
              "          dataTable['output_type'] = 'display_data';\n",
              "          await google.colab.output.renderOutput(dataTable, element);\n",
              "          const docLink = document.createElement('div');\n",
              "          docLink.innerHTML = docLinkHtml;\n",
              "          element.appendChild(docLink);\n",
              "        }\n",
              "      </script>\n",
              "    </div>\n",
              "  </div>\n",
              "  "
            ]
          },
          "metadata": {},
          "execution_count": 41
        }
      ],
      "source": [
        "score_df = pd.DataFrame(rnd_search.cv_results_)\n",
        "score_df.head()"
      ]
    },
    {
      "cell_type": "code",
      "execution_count": 42,
      "id": "58703ded",
      "metadata": {
        "colab": {
          "base_uri": "https://localhost:8080/"
        },
        "id": "58703ded",
        "outputId": "96dce026-061c-4c8b-f938-592c083ce80e"
      },
      "outputs": [
        {
          "output_type": "execute_result",
          "data": {
            "text/plain": [
              "DecisionTreeRegressor(max_depth=10, min_samples_leaf=5, random_state=42)"
            ]
          },
          "metadata": {},
          "execution_count": 42
        }
      ],
      "source": [
        "res=rnd_search.best_estimator_\n",
        "res"
      ]
    },
    {
      "cell_type": "markdown",
      "id": "b06f5b45",
      "metadata": {
        "id": "b06f5b45"
      },
      "source": [
        "## 5- Apply the fine-tuned model on test dataset and report the final RMSE"
      ]
    },
    {
      "cell_type": "code",
      "execution_count": 43,
      "id": "49e83904",
      "metadata": {
        "id": "49e83904"
      },
      "outputs": [],
      "source": [
        "X_test = strat_test_set.drop(\"median_income\", axis=1)\n",
        "y_test = strat_test_set[\"median_income\"]"
      ]
    },
    {
      "cell_type": "code",
      "execution_count": 44,
      "id": "886c5fa0",
      "metadata": {
        "id": "886c5fa0"
      },
      "outputs": [],
      "source": [
        "X_test['ocean_proximity'] = LabelEncoder().fit_transform(X_test['ocean_proximity'])\n",
        "X_test['median_house_cat']=LabelEncoder().fit_transform(X_test['median_house_cat'])"
      ]
    },
    {
      "cell_type": "code",
      "execution_count": 45,
      "id": "1de3046a",
      "metadata": {
        "id": "1de3046a"
      },
      "outputs": [],
      "source": [
        "sc=StandardScaler(with_mean=False)\n",
        "X_test_prepaired=sc.fit_transform(X_test)"
      ]
    },
    {
      "cell_type": "code",
      "execution_count": 46,
      "id": "4a92197d",
      "metadata": {
        "colab": {
          "base_uri": "https://localhost:8080/",
          "height": 206
        },
        "id": "4a92197d",
        "outputId": "460fbef7-8744-464f-885d-75b64abc81d9"
      },
      "outputs": [
        {
          "output_type": "execute_result",
          "data": {
            "text/plain": [
              "       longitude  latitude  housing_median_age  total_rooms  total_bedrooms  \\\n",
              "14645    -117.19     32.77                30.0       2747.0           640.0   \n",
              "18026    -121.92     37.25                34.0       2231.0           360.0   \n",
              "17310    -119.50     34.35                39.0        308.0            38.0   \n",
              "14231    -117.04     32.68                 9.0       3087.0           609.0   \n",
              "13227    -117.69     34.01                30.0       2598.0           573.0   \n",
              "\n",
              "       population  households  ocean_proximity  median_house_cat  \n",
              "14645      3185.0       657.0                3                 2  \n",
              "18026      1035.0       365.0                0                 2  \n",
              "17310        59.0        21.0                3                 1  \n",
              "14231      1530.0       556.0                3                 0  \n",
              "13227      2170.0       518.0                1                 0  "
            ],
            "text/html": [
              "\n",
              "  <div id=\"df-663351ce-7dc4-4990-97ac-924c3c9cfd44\">\n",
              "    <div class=\"colab-df-container\">\n",
              "      <div>\n",
              "<style scoped>\n",
              "    .dataframe tbody tr th:only-of-type {\n",
              "        vertical-align: middle;\n",
              "    }\n",
              "\n",
              "    .dataframe tbody tr th {\n",
              "        vertical-align: top;\n",
              "    }\n",
              "\n",
              "    .dataframe thead th {\n",
              "        text-align: right;\n",
              "    }\n",
              "</style>\n",
              "<table border=\"1\" class=\"dataframe\">\n",
              "  <thead>\n",
              "    <tr style=\"text-align: right;\">\n",
              "      <th></th>\n",
              "      <th>longitude</th>\n",
              "      <th>latitude</th>\n",
              "      <th>housing_median_age</th>\n",
              "      <th>total_rooms</th>\n",
              "      <th>total_bedrooms</th>\n",
              "      <th>population</th>\n",
              "      <th>households</th>\n",
              "      <th>ocean_proximity</th>\n",
              "      <th>median_house_cat</th>\n",
              "    </tr>\n",
              "  </thead>\n",
              "  <tbody>\n",
              "    <tr>\n",
              "      <th>14645</th>\n",
              "      <td>-117.19</td>\n",
              "      <td>32.77</td>\n",
              "      <td>30.0</td>\n",
              "      <td>2747.0</td>\n",
              "      <td>640.0</td>\n",
              "      <td>3185.0</td>\n",
              "      <td>657.0</td>\n",
              "      <td>3</td>\n",
              "      <td>2</td>\n",
              "    </tr>\n",
              "    <tr>\n",
              "      <th>18026</th>\n",
              "      <td>-121.92</td>\n",
              "      <td>37.25</td>\n",
              "      <td>34.0</td>\n",
              "      <td>2231.0</td>\n",
              "      <td>360.0</td>\n",
              "      <td>1035.0</td>\n",
              "      <td>365.0</td>\n",
              "      <td>0</td>\n",
              "      <td>2</td>\n",
              "    </tr>\n",
              "    <tr>\n",
              "      <th>17310</th>\n",
              "      <td>-119.50</td>\n",
              "      <td>34.35</td>\n",
              "      <td>39.0</td>\n",
              "      <td>308.0</td>\n",
              "      <td>38.0</td>\n",
              "      <td>59.0</td>\n",
              "      <td>21.0</td>\n",
              "      <td>3</td>\n",
              "      <td>1</td>\n",
              "    </tr>\n",
              "    <tr>\n",
              "      <th>14231</th>\n",
              "      <td>-117.04</td>\n",
              "      <td>32.68</td>\n",
              "      <td>9.0</td>\n",
              "      <td>3087.0</td>\n",
              "      <td>609.0</td>\n",
              "      <td>1530.0</td>\n",
              "      <td>556.0</td>\n",
              "      <td>3</td>\n",
              "      <td>0</td>\n",
              "    </tr>\n",
              "    <tr>\n",
              "      <th>13227</th>\n",
              "      <td>-117.69</td>\n",
              "      <td>34.01</td>\n",
              "      <td>30.0</td>\n",
              "      <td>2598.0</td>\n",
              "      <td>573.0</td>\n",
              "      <td>2170.0</td>\n",
              "      <td>518.0</td>\n",
              "      <td>1</td>\n",
              "      <td>0</td>\n",
              "    </tr>\n",
              "  </tbody>\n",
              "</table>\n",
              "</div>\n",
              "      <button class=\"colab-df-convert\" onclick=\"convertToInteractive('df-663351ce-7dc4-4990-97ac-924c3c9cfd44')\"\n",
              "              title=\"Convert this dataframe to an interactive table.\"\n",
              "              style=\"display:none;\">\n",
              "        \n",
              "  <svg xmlns=\"http://www.w3.org/2000/svg\" height=\"24px\"viewBox=\"0 0 24 24\"\n",
              "       width=\"24px\">\n",
              "    <path d=\"M0 0h24v24H0V0z\" fill=\"none\"/>\n",
              "    <path d=\"M18.56 5.44l.94 2.06.94-2.06 2.06-.94-2.06-.94-.94-2.06-.94 2.06-2.06.94zm-11 1L8.5 8.5l.94-2.06 2.06-.94-2.06-.94L8.5 2.5l-.94 2.06-2.06.94zm10 10l.94 2.06.94-2.06 2.06-.94-2.06-.94-.94-2.06-.94 2.06-2.06.94z\"/><path d=\"M17.41 7.96l-1.37-1.37c-.4-.4-.92-.59-1.43-.59-.52 0-1.04.2-1.43.59L10.3 9.45l-7.72 7.72c-.78.78-.78 2.05 0 2.83L4 21.41c.39.39.9.59 1.41.59.51 0 1.02-.2 1.41-.59l7.78-7.78 2.81-2.81c.8-.78.8-2.07 0-2.86zM5.41 20L4 18.59l7.72-7.72 1.47 1.35L5.41 20z\"/>\n",
              "  </svg>\n",
              "      </button>\n",
              "      \n",
              "  <style>\n",
              "    .colab-df-container {\n",
              "      display:flex;\n",
              "      flex-wrap:wrap;\n",
              "      gap: 12px;\n",
              "    }\n",
              "\n",
              "    .colab-df-convert {\n",
              "      background-color: #E8F0FE;\n",
              "      border: none;\n",
              "      border-radius: 50%;\n",
              "      cursor: pointer;\n",
              "      display: none;\n",
              "      fill: #1967D2;\n",
              "      height: 32px;\n",
              "      padding: 0 0 0 0;\n",
              "      width: 32px;\n",
              "    }\n",
              "\n",
              "    .colab-df-convert:hover {\n",
              "      background-color: #E2EBFA;\n",
              "      box-shadow: 0px 1px 2px rgba(60, 64, 67, 0.3), 0px 1px 3px 1px rgba(60, 64, 67, 0.15);\n",
              "      fill: #174EA6;\n",
              "    }\n",
              "\n",
              "    [theme=dark] .colab-df-convert {\n",
              "      background-color: #3B4455;\n",
              "      fill: #D2E3FC;\n",
              "    }\n",
              "\n",
              "    [theme=dark] .colab-df-convert:hover {\n",
              "      background-color: #434B5C;\n",
              "      box-shadow: 0px 1px 3px 1px rgba(0, 0, 0, 0.15);\n",
              "      filter: drop-shadow(0px 1px 2px rgba(0, 0, 0, 0.3));\n",
              "      fill: #FFFFFF;\n",
              "    }\n",
              "  </style>\n",
              "\n",
              "      <script>\n",
              "        const buttonEl =\n",
              "          document.querySelector('#df-663351ce-7dc4-4990-97ac-924c3c9cfd44 button.colab-df-convert');\n",
              "        buttonEl.style.display =\n",
              "          google.colab.kernel.accessAllowed ? 'block' : 'none';\n",
              "\n",
              "        async function convertToInteractive(key) {\n",
              "          const element = document.querySelector('#df-663351ce-7dc4-4990-97ac-924c3c9cfd44');\n",
              "          const dataTable =\n",
              "            await google.colab.kernel.invokeFunction('convertToInteractive',\n",
              "                                                     [key], {});\n",
              "          if (!dataTable) return;\n",
              "\n",
              "          const docLinkHtml = 'Like what you see? Visit the ' +\n",
              "            '<a target=\"_blank\" href=https://colab.research.google.com/notebooks/data_table.ipynb>data table notebook</a>'\n",
              "            + ' to learn more about interactive tables.';\n",
              "          element.innerHTML = '';\n",
              "          dataTable['output_type'] = 'display_data';\n",
              "          await google.colab.output.renderOutput(dataTable, element);\n",
              "          const docLink = document.createElement('div');\n",
              "          docLink.innerHTML = docLinkHtml;\n",
              "          element.appendChild(docLink);\n",
              "        }\n",
              "      </script>\n",
              "    </div>\n",
              "  </div>\n",
              "  "
            ]
          },
          "metadata": {},
          "execution_count": 46
        }
      ],
      "source": [
        "X_test.head()"
      ]
    },
    {
      "cell_type": "code",
      "execution_count": 47,
      "id": "da1faf9a",
      "metadata": {
        "colab": {
          "base_uri": "https://localhost:8080/"
        },
        "id": "da1faf9a",
        "outputId": "d29e1cd7-6995-4a09-9309-8a6ddc271d33"
      },
      "outputs": [
        {
          "output_type": "stream",
          "name": "stdout",
          "text": [
            "the mean squared error   1.2519562078551245\n",
            "root mean squared error  1.1189084894910417\n",
            "The r2 score is  0.6478047944145586\n"
          ]
        }
      ],
      "source": [
        "final_predictions_DT = res.predict(X_test_prepaired)\n",
        "final_mse1 = mean_squared_error(y_test, final_predictions_DT)\n",
        "print(\"the mean squared error  \",final_mse1)\n",
        "final_rmse1 = np.sqrt(final_mse1)\n",
        "print(\"root mean squared error \",final_rmse1)\n",
        "r2_sc=r2_score(y_test, final_predictions_DT)\n",
        "print(\"The r2 score is \", r2_sc)"
      ]
    },
    {
      "cell_type": "markdown",
      "id": "7257e6c6",
      "metadata": {
        "id": "7257e6c6"
      },
      "source": [
        "## 6-save your model"
      ]
    },
    {
      "cell_type": "code",
      "execution_count": 48,
      "id": "60d83a18",
      "metadata": {
        "id": "60d83a18"
      },
      "outputs": [],
      "source": [
        "\n",
        "joblib.dump(res, \"final_model.pkl\") \n",
        "my_model_loaded = joblib.load(\"final_model.pkl\") "
      ]
    }
  ],
  "metadata": {
    "kernelspec": {
      "display_name": "Python 3 (ipykernel)",
      "language": "python",
      "name": "python3"
    },
    "language_info": {
      "codemirror_mode": {
        "name": "ipython",
        "version": 3
      },
      "file_extension": ".py",
      "mimetype": "text/x-python",
      "name": "python",
      "nbconvert_exporter": "python",
      "pygments_lexer": "ipython3",
      "version": "3.9.12"
    },
    "colab": {
      "name": "Task_5_final_updated.ipynb",
      "provenance": []
    }
  },
  "nbformat": 4,
  "nbformat_minor": 5
}